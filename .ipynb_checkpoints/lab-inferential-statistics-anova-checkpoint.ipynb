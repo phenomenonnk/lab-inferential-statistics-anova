{
 "cells": [
  {
   "cell_type": "markdown",
   "id": "a8906238",
   "metadata": {},
   "source": [
    "# lab-inferential-statistics-anova"
   ]
  },
  {
   "cell_type": "markdown",
   "id": "eabb7239",
   "metadata": {},
   "source": [
    "## Part 1"
   ]
  },
  {
   "cell_type": "markdown",
   "id": "2f8fb2b5",
   "metadata": {},
   "source": [
    "#### In this activity, we will look at another example. Your task is to understand the problem and write down all the steps to set up ANOVA. After the next lesson, we will ask you to solve this problem using Python. Here are the steps that you would need to work on: - Null hypothesis - Alternate hypothesis - Level of significance - Test statistic - P-value - F table"
   ]
  },
  {
   "cell_type": "markdown",
   "id": "60b8a8cb",
   "metadata": {},
   "source": [
    "## Context"
   ]
  },
  {
   "cell_type": "markdown",
   "id": "64e21283",
   "metadata": {},
   "source": [
    "#### Suppose you are working as an analyst in a microprocessor chip manufacturing plant. You have been given the task of analyzing a plasma etching process with respect to changing Power (in Watts) of the plasma beam. Data was collected and provided to you to conduct statistical analysis and check if changing the power of the plasma beam has any effect on the etching rate by the machine. You will conduct ANOVA and check if there is any difference in the mean etching rate for different levels of power. You can find the data anova_lab_data.xlsx file in the files_for_lab folder"
   ]
  },
  {
   "cell_type": "code",
   "execution_count": 119,
   "id": "6ff72ccb",
   "metadata": {},
   "outputs": [],
   "source": [
    "# importing libraries\n",
    "import pandas as pd\n",
    "import numpy as np\n",
    "import scipy.stats as st\n",
    "import matplotlib.pyplot as plt\n",
    "import seaborn as sns\n",
    "import warnings\n",
    "warnings.filterwarnings('ignore')"
   ]
  },
  {
   "cell_type": "code",
   "execution_count": 120,
   "id": "89578c42",
   "metadata": {},
   "outputs": [
    {
     "data": {
      "text/html": [
       "<div>\n",
       "<style scoped>\n",
       "    .dataframe tbody tr th:only-of-type {\n",
       "        vertical-align: middle;\n",
       "    }\n",
       "\n",
       "    .dataframe tbody tr th {\n",
       "        vertical-align: top;\n",
       "    }\n",
       "\n",
       "    .dataframe thead th {\n",
       "        text-align: right;\n",
       "    }\n",
       "</style>\n",
       "<table border=\"1\" class=\"dataframe\">\n",
       "  <thead>\n",
       "    <tr style=\"text-align: right;\">\n",
       "      <th></th>\n",
       "      <th>Power</th>\n",
       "      <th>Etching Rate</th>\n",
       "    </tr>\n",
       "  </thead>\n",
       "  <tbody>\n",
       "    <tr>\n",
       "      <th>0</th>\n",
       "      <td>160 W</td>\n",
       "      <td>5.43</td>\n",
       "    </tr>\n",
       "    <tr>\n",
       "      <th>1</th>\n",
       "      <td>180 W</td>\n",
       "      <td>6.24</td>\n",
       "    </tr>\n",
       "    <tr>\n",
       "      <th>2</th>\n",
       "      <td>200 W</td>\n",
       "      <td>8.79</td>\n",
       "    </tr>\n",
       "    <tr>\n",
       "      <th>3</th>\n",
       "      <td>160 W</td>\n",
       "      <td>5.71</td>\n",
       "    </tr>\n",
       "    <tr>\n",
       "      <th>4</th>\n",
       "      <td>180 W</td>\n",
       "      <td>6.71</td>\n",
       "    </tr>\n",
       "    <tr>\n",
       "      <th>5</th>\n",
       "      <td>200 W</td>\n",
       "      <td>9.20</td>\n",
       "    </tr>\n",
       "    <tr>\n",
       "      <th>6</th>\n",
       "      <td>160 W</td>\n",
       "      <td>6.22</td>\n",
       "    </tr>\n",
       "    <tr>\n",
       "      <th>7</th>\n",
       "      <td>180 W</td>\n",
       "      <td>5.98</td>\n",
       "    </tr>\n",
       "    <tr>\n",
       "      <th>8</th>\n",
       "      <td>200 W</td>\n",
       "      <td>7.90</td>\n",
       "    </tr>\n",
       "    <tr>\n",
       "      <th>9</th>\n",
       "      <td>160 W</td>\n",
       "      <td>6.01</td>\n",
       "    </tr>\n",
       "    <tr>\n",
       "      <th>10</th>\n",
       "      <td>180 W</td>\n",
       "      <td>5.66</td>\n",
       "    </tr>\n",
       "    <tr>\n",
       "      <th>11</th>\n",
       "      <td>200 W</td>\n",
       "      <td>8.15</td>\n",
       "    </tr>\n",
       "    <tr>\n",
       "      <th>12</th>\n",
       "      <td>160 W</td>\n",
       "      <td>5.59</td>\n",
       "    </tr>\n",
       "    <tr>\n",
       "      <th>13</th>\n",
       "      <td>180 W</td>\n",
       "      <td>6.60</td>\n",
       "    </tr>\n",
       "    <tr>\n",
       "      <th>14</th>\n",
       "      <td>200 W</td>\n",
       "      <td>7.55</td>\n",
       "    </tr>\n",
       "  </tbody>\n",
       "</table>\n",
       "</div>"
      ],
      "text/plain": [
       "   Power   Etching Rate\n",
       "0   160 W          5.43\n",
       "1   180 W          6.24\n",
       "2   200 W          8.79\n",
       "3   160 W          5.71\n",
       "4   180 W          6.71\n",
       "5   200 W          9.20\n",
       "6   160 W          6.22\n",
       "7   180 W          5.98\n",
       "8   200 W          7.90\n",
       "9   160 W          6.01\n",
       "10  180 W          5.66\n",
       "11  200 W          8.15\n",
       "12  160 W          5.59\n",
       "13  180 W          6.60\n",
       "14  200 W          7.55"
      ]
     },
     "execution_count": 120,
     "metadata": {},
     "output_type": "execute_result"
    }
   ],
   "source": [
    "# Reading the file into python as dataframe\n",
    "anova_lab_data_df = pd.read_excel(\"anova_lab_data.xlsx\")\n",
    "anova_lab_data_df"
   ]
  },
  {
   "cell_type": "code",
   "execution_count": 121,
   "id": "f34e1f69",
   "metadata": {},
   "outputs": [
    {
     "data": {
      "text/plain": [
       "['power_', 'etching_rate']"
      ]
     },
     "execution_count": 121,
     "metadata": {},
     "output_type": "execute_result"
    }
   ],
   "source": [
    "# Standardizing header-column names in the dataframe by using only lowercase letters and by replacing the spaces with underscores\n",
    "cols = [anova_lab_data_df.columns[i].lower().replace(' ', '_') for i in range(len(anova_lab_data_df.columns))]\n",
    "cols"
   ]
  },
  {
   "cell_type": "code",
   "execution_count": 122,
   "id": "b2fa62b4",
   "metadata": {},
   "outputs": [
    {
     "data": {
      "text/plain": [
       "Index(['power_', 'etching_rate'], dtype='object')"
      ]
     },
     "execution_count": 122,
     "metadata": {},
     "output_type": "execute_result"
    }
   ],
   "source": [
    "# assigning the names of the columns for the dataframe and display the dataframe\n",
    "anova_lab_data_df.columns=cols\n",
    "anova_lab_data_df.columns"
   ]
  },
  {
   "cell_type": "code",
   "execution_count": 123,
   "id": "6efc3caf",
   "metadata": {},
   "outputs": [
    {
     "data": {
      "text/plain": [
       "Index(['power', 'etching_rate'], dtype='object')"
      ]
     },
     "execution_count": 123,
     "metadata": {},
     "output_type": "execute_result"
    }
   ],
   "source": [
    "# renaming columns\n",
    "anova_lab_data_df = anova_lab_data_df.rename(columns={'power_':'power'})\n",
    "anova_lab_data_df.columns"
   ]
  },
  {
   "cell_type": "code",
   "execution_count": 124,
   "id": "71666582",
   "metadata": {},
   "outputs": [
    {
     "data": {
      "text/html": [
       "<div>\n",
       "<style scoped>\n",
       "    .dataframe tbody tr th:only-of-type {\n",
       "        vertical-align: middle;\n",
       "    }\n",
       "\n",
       "    .dataframe tbody tr th {\n",
       "        vertical-align: top;\n",
       "    }\n",
       "\n",
       "    .dataframe thead th {\n",
       "        text-align: right;\n",
       "    }\n",
       "</style>\n",
       "<table border=\"1\" class=\"dataframe\">\n",
       "  <thead>\n",
       "    <tr style=\"text-align: right;\">\n",
       "      <th></th>\n",
       "      <th>etching_rate</th>\n",
       "    </tr>\n",
       "  </thead>\n",
       "  <tbody>\n",
       "    <tr>\n",
       "      <th>count</th>\n",
       "      <td>15.000000</td>\n",
       "    </tr>\n",
       "    <tr>\n",
       "      <th>mean</th>\n",
       "      <td>6.782667</td>\n",
       "    </tr>\n",
       "    <tr>\n",
       "      <th>std</th>\n",
       "      <td>1.228643</td>\n",
       "    </tr>\n",
       "    <tr>\n",
       "      <th>min</th>\n",
       "      <td>5.430000</td>\n",
       "    </tr>\n",
       "    <tr>\n",
       "      <th>25%</th>\n",
       "      <td>5.845000</td>\n",
       "    </tr>\n",
       "    <tr>\n",
       "      <th>50%</th>\n",
       "      <td>6.240000</td>\n",
       "    </tr>\n",
       "    <tr>\n",
       "      <th>75%</th>\n",
       "      <td>7.725000</td>\n",
       "    </tr>\n",
       "    <tr>\n",
       "      <th>max</th>\n",
       "      <td>9.200000</td>\n",
       "    </tr>\n",
       "  </tbody>\n",
       "</table>\n",
       "</div>"
      ],
      "text/plain": [
       "       etching_rate\n",
       "count     15.000000\n",
       "mean       6.782667\n",
       "std        1.228643\n",
       "min        5.430000\n",
       "25%        5.845000\n",
       "50%        6.240000\n",
       "75%        7.725000\n",
       "max        9.200000"
      ]
     },
     "execution_count": 124,
     "metadata": {},
     "output_type": "execute_result"
    }
   ],
   "source": [
    "# describing the dataframe where we can see useful info like n=count=15 (we will use it for the degrees of freedom)\n",
    "anova_lab_data_df.describe()"
   ]
  },
  {
   "cell_type": "code",
   "execution_count": 125,
   "id": "f1168f6e",
   "metadata": {},
   "outputs": [
    {
     "data": {
      "text/plain": [
       "160 W    5\n",
       "180 W    5\n",
       "200 W    5\n",
       "Name: power, dtype: int64"
      ]
     },
     "execution_count": 125,
     "metadata": {},
     "output_type": "execute_result"
    }
   ],
   "source": [
    "anova_lab_data_df_count = anova_lab_data_df['power'].value_counts()\n",
    "anova_lab_data_df_count"
   ]
  },
  {
   "cell_type": "code",
   "execution_count": 127,
   "id": "b9ac008d",
   "metadata": {},
   "outputs": [
    {
     "data": {
      "text/html": [
       "<div>\n",
       "<style scoped>\n",
       "    .dataframe tbody tr th:only-of-type {\n",
       "        vertical-align: middle;\n",
       "    }\n",
       "\n",
       "    .dataframe tbody tr th {\n",
       "        vertical-align: top;\n",
       "    }\n",
       "\n",
       "    .dataframe thead th {\n",
       "        text-align: right;\n",
       "    }\n",
       "</style>\n",
       "<table border=\"1\" class=\"dataframe\">\n",
       "  <thead>\n",
       "    <tr style=\"text-align: right;\">\n",
       "      <th></th>\n",
       "      <th>power</th>\n",
       "      <th>etching_rate</th>\n",
       "    </tr>\n",
       "  </thead>\n",
       "  <tbody>\n",
       "    <tr>\n",
       "      <th>0</th>\n",
       "      <td>160</td>\n",
       "      <td>5.43</td>\n",
       "    </tr>\n",
       "    <tr>\n",
       "      <th>1</th>\n",
       "      <td>180</td>\n",
       "      <td>6.24</td>\n",
       "    </tr>\n",
       "    <tr>\n",
       "      <th>2</th>\n",
       "      <td>200</td>\n",
       "      <td>8.79</td>\n",
       "    </tr>\n",
       "    <tr>\n",
       "      <th>3</th>\n",
       "      <td>160</td>\n",
       "      <td>5.71</td>\n",
       "    </tr>\n",
       "    <tr>\n",
       "      <th>4</th>\n",
       "      <td>180</td>\n",
       "      <td>6.71</td>\n",
       "    </tr>\n",
       "    <tr>\n",
       "      <th>5</th>\n",
       "      <td>200</td>\n",
       "      <td>9.20</td>\n",
       "    </tr>\n",
       "    <tr>\n",
       "      <th>6</th>\n",
       "      <td>160</td>\n",
       "      <td>6.22</td>\n",
       "    </tr>\n",
       "    <tr>\n",
       "      <th>7</th>\n",
       "      <td>180</td>\n",
       "      <td>5.98</td>\n",
       "    </tr>\n",
       "    <tr>\n",
       "      <th>8</th>\n",
       "      <td>200</td>\n",
       "      <td>7.90</td>\n",
       "    </tr>\n",
       "    <tr>\n",
       "      <th>9</th>\n",
       "      <td>160</td>\n",
       "      <td>6.01</td>\n",
       "    </tr>\n",
       "    <tr>\n",
       "      <th>10</th>\n",
       "      <td>180</td>\n",
       "      <td>5.66</td>\n",
       "    </tr>\n",
       "    <tr>\n",
       "      <th>11</th>\n",
       "      <td>200</td>\n",
       "      <td>8.15</td>\n",
       "    </tr>\n",
       "    <tr>\n",
       "      <th>12</th>\n",
       "      <td>160</td>\n",
       "      <td>5.59</td>\n",
       "    </tr>\n",
       "    <tr>\n",
       "      <th>13</th>\n",
       "      <td>180</td>\n",
       "      <td>6.60</td>\n",
       "    </tr>\n",
       "    <tr>\n",
       "      <th>14</th>\n",
       "      <td>200</td>\n",
       "      <td>7.55</td>\n",
       "    </tr>\n",
       "  </tbody>\n",
       "</table>\n",
       "</div>"
      ],
      "text/plain": [
       "   power  etching_rate\n",
       "0    160          5.43\n",
       "1    180          6.24\n",
       "2    200          8.79\n",
       "3    160          5.71\n",
       "4    180          6.71\n",
       "5    200          9.20\n",
       "6    160          6.22\n",
       "7    180          5.98\n",
       "8    200          7.90\n",
       "9    160          6.01\n",
       "10   180          5.66\n",
       "11   200          8.15\n",
       "12   160          5.59\n",
       "13   180          6.60\n",
       "14   200          7.55"
      ]
     },
     "execution_count": 127,
     "metadata": {},
     "output_type": "execute_result"
    }
   ],
   "source": [
    "anova_lab_data_df['power'] = np.where(anova_lab_data_df['power'].isin(['160 W']) , 160, anova_lab_data_df['power'])\n",
    "anova_lab_data_df['power'] = np.where(anova_lab_data_df['power'].isin(['180 W']) , 180, anova_lab_data_df['power'])\n",
    "anova_lab_data_df['power'] = np.where(anova_lab_data_df['power'].isin(['200 W']) , 200, anova_lab_data_df['power'])\n",
    "anova_lab_data_df"
   ]
  },
  {
   "cell_type": "code",
   "execution_count": 128,
   "id": "0fa8f28b",
   "metadata": {},
   "outputs": [
    {
     "data": {
      "text/html": [
       "<div>\n",
       "<style scoped>\n",
       "    .dataframe tbody tr th:only-of-type {\n",
       "        vertical-align: middle;\n",
       "    }\n",
       "\n",
       "    .dataframe tbody tr th {\n",
       "        vertical-align: top;\n",
       "    }\n",
       "\n",
       "    .dataframe thead th {\n",
       "        text-align: right;\n",
       "    }\n",
       "</style>\n",
       "<table border=\"1\" class=\"dataframe\">\n",
       "  <thead>\n",
       "    <tr style=\"text-align: right;\">\n",
       "      <th></th>\n",
       "      <th>etching_rate</th>\n",
       "    </tr>\n",
       "    <tr>\n",
       "      <th>power</th>\n",
       "      <th></th>\n",
       "    </tr>\n",
       "  </thead>\n",
       "  <tbody>\n",
       "    <tr>\n",
       "      <th>160</th>\n",
       "      <td>5.792</td>\n",
       "    </tr>\n",
       "    <tr>\n",
       "      <th>180</th>\n",
       "      <td>6.238</td>\n",
       "    </tr>\n",
       "    <tr>\n",
       "      <th>200</th>\n",
       "      <td>8.318</td>\n",
       "    </tr>\n",
       "  </tbody>\n",
       "</table>\n",
       "</div>"
      ],
      "text/plain": [
       "       etching_rate\n",
       "power              \n",
       "160           5.792\n",
       "180           6.238\n",
       "200           8.318"
      ]
     },
     "execution_count": 128,
     "metadata": {},
     "output_type": "execute_result"
    }
   ],
   "source": [
    "anova_lab_data_df.groupby('power').agg(np.mean)"
   ]
  },
  {
   "cell_type": "code",
   "execution_count": 129,
   "id": "9b148f2c",
   "metadata": {},
   "outputs": [],
   "source": [
    "# def seperation(x):\n",
    "#     first=[]\n",
    "#     second=[]\n",
    "#     third=[]\n",
    "#     for i in x:\n",
    "#         if x==160:\n",
    "#             first.append(i)\n",
    "#         elif x==180:\n",
    "#             second.append(i)\n",
    "#         elif x==200:\n",
    "#             third.append(i)\n",
    "#     return x[first], x[second], x[third]\n",
    "\n",
    "# anova_lab_data_df['power'] = anova_lab_data_df['power'].apply(seperation)"
   ]
  },
  {
   "cell_type": "code",
   "execution_count": 130,
   "id": "7164e3f9",
   "metadata": {},
   "outputs": [],
   "source": [
    "# anova_lab_data_df.apply(seperation, 'power', axis=1)"
   ]
  },
  {
   "cell_type": "markdown",
   "id": "9c4571c9",
   "metadata": {},
   "source": [
    "#### State the null hypothesis"
   ]
  },
  {
   "cell_type": "code",
   "execution_count": 131,
   "id": "ec7794a4",
   "metadata": {},
   "outputs": [],
   "source": [
    "#### The assumptions for an one-way between groups ANOVA are:\n",
    "#### 1. Samples are independent\n",
    "#### 2. The response variable is approximately normally distributed for each group or all group sample sizes are at least 30\n",
    "#### 3. The population variances are equal across responses for the group levels (if the largest sample standard deviation divided\n",
    "#### by the smallest sample standard deviation is not greater than two, then assume that the population variances are equal)"
   ]
  },
  {
   "cell_type": "code",
   "execution_count": 132,
   "id": "0eceae25",
   "metadata": {},
   "outputs": [],
   "source": [
    "#### Given that we are comparing 3 independent groups, the null hypothesis is:\n",
    "#### Η0: μ1=μ2=μ3 (the means are similar) where μ1: the mean of the first group with power 160 W, μ2: the mean of the second group with power 180 W\n",
    "#### and μ3: the mean of the third group with power 200 W"
   ]
  },
  {
   "cell_type": "markdown",
   "id": "3d7fdb28",
   "metadata": {},
   "source": [
    "#### State the alternate hypothesis"
   ]
  },
  {
   "cell_type": "code",
   "execution_count": 133,
   "id": "0f6f5f51",
   "metadata": {},
   "outputs": [],
   "source": [
    "#### alternative hypothesis -> H1 (or Ha): Not all μ are equal\n",
    "#### the means are different (there is at least one design with the mean different from the others)."
   ]
  },
  {
   "cell_type": "markdown",
   "id": "3bed1e07",
   "metadata": {},
   "source": [
    "#### What is the significance level"
   ]
  },
  {
   "cell_type": "code",
   "execution_count": 134,
   "id": "83fdbb11",
   "metadata": {},
   "outputs": [],
   "source": [
    "#### Level of significance: This defines the rejection region/critical region, it's the probability of making the wrong decision\n",
    "#### when the null hypothesis is true. Usually it is 0.05. It is defined by greek letter 'alpha'.\n",
    "#### we are not in a medical field so we can use as a=0.05"
   ]
  },
  {
   "cell_type": "markdown",
   "id": "39115989",
   "metadata": {},
   "source": [
    "#### What are the degrees of freedom of model, error terms, and total DoF"
   ]
  },
  {
   "cell_type": "code",
   "execution_count": null,
   "id": "a77c20ab",
   "metadata": {},
   "outputs": [],
   "source": [
    "####  we will use ANOVA and f distribution (F-TEST)\n",
    "#### df1 (Between Groups (Numerator) Degrees of Freedom): k-1, k=number of groups, we have 3 groups so df1=k-1=3-1=2\n",
    "#### df2 (Within Groups (Denominator, Error) Degrees of Freedom): n-k, n=total sample size with all groups combined,\n",
    "#### k=number of groups. So, n=15, k=3 and df2=n-k=15-3=12\n",
    "#### the total degrees of freedom are df=df1+df2=2+12=14"
   ]
  },
  {
   "cell_type": "markdown",
   "id": "1685dc7c",
   "metadata": {},
   "source": [
    "## Part 2"
   ]
  },
  {
   "cell_type": "markdown",
   "id": "88864eaf",
   "metadata": {},
   "source": [
    "#### In this section, use Python to conduct ANOVA."
   ]
  },
  {
   "cell_type": "code",
   "execution_count": 135,
   "id": "cce7ded2",
   "metadata": {},
   "outputs": [
    {
     "data": {
      "text/html": [
       "<div>\n",
       "<style scoped>\n",
       "    .dataframe tbody tr th:only-of-type {\n",
       "        vertical-align: middle;\n",
       "    }\n",
       "\n",
       "    .dataframe tbody tr th {\n",
       "        vertical-align: top;\n",
       "    }\n",
       "\n",
       "    .dataframe thead th {\n",
       "        text-align: right;\n",
       "    }\n",
       "</style>\n",
       "<table border=\"1\" class=\"dataframe\">\n",
       "  <thead>\n",
       "    <tr style=\"text-align: right;\">\n",
       "      <th></th>\n",
       "      <th>df</th>\n",
       "      <th>sum_sq</th>\n",
       "      <th>mean_sq</th>\n",
       "      <th>F</th>\n",
       "      <th>PR(&gt;F)</th>\n",
       "    </tr>\n",
       "  </thead>\n",
       "  <tbody>\n",
       "    <tr>\n",
       "      <th>power</th>\n",
       "      <td>2.0</td>\n",
       "      <td>18.176653</td>\n",
       "      <td>9.088327</td>\n",
       "      <td>36.878955</td>\n",
       "      <td>0.000008</td>\n",
       "    </tr>\n",
       "    <tr>\n",
       "      <th>Residual</th>\n",
       "      <td>12.0</td>\n",
       "      <td>2.957240</td>\n",
       "      <td>0.246437</td>\n",
       "      <td>NaN</td>\n",
       "      <td>NaN</td>\n",
       "    </tr>\n",
       "  </tbody>\n",
       "</table>\n",
       "</div>"
      ],
      "text/plain": [
       "            df     sum_sq   mean_sq          F    PR(>F)\n",
       "power      2.0  18.176653  9.088327  36.878955  0.000008\n",
       "Residual  12.0   2.957240  0.246437        NaN       NaN"
      ]
     },
     "execution_count": 135,
     "metadata": {},
     "output_type": "execute_result"
    }
   ],
   "source": [
    "# Analysis of Variance (ANOVA)\n",
    "import statsmodels.api as sm\n",
    "from statsmodels.formula.api import ols\n",
    "\n",
    "model = ols('etching_rate~power', data=anova_lab_data_df).fit()\n",
    "sm.stats.anova_lm(model)"
   ]
  },
  {
   "cell_type": "markdown",
   "id": "a31f5049",
   "metadata": {},
   "source": [
    "#### What conclusions can you draw from the experiment and why?"
   ]
  },
  {
   "cell_type": "code",
   "execution_count": 136,
   "id": "764de8ed",
   "metadata": {},
   "outputs": [],
   "source": [
    "# Considering a significance level of 0.05, the p-value is below (0.000008), so we reject the null hypothesis.\n",
    "# We accept the alternative hypothesis -> H1 (or Ha): Not all μ are equal\n",
    "# We can also conclude that at least one of the designs resulted in different mean from the others\n",
    "# (we can't tell exactly which, unless we use Tukey pairwise comparison-Tukey Simultaneous Tests)."
   ]
  },
  {
   "cell_type": "code",
   "execution_count": null,
   "id": "10619efb",
   "metadata": {},
   "outputs": [],
   "source": []
  }
 ],
 "metadata": {
  "kernelspec": {
   "display_name": "Python 3 (ipykernel)",
   "language": "python",
   "name": "python3"
  },
  "language_info": {
   "codemirror_mode": {
    "name": "ipython",
    "version": 3
   },
   "file_extension": ".py",
   "mimetype": "text/x-python",
   "name": "python",
   "nbconvert_exporter": "python",
   "pygments_lexer": "ipython3",
   "version": "3.9.7"
  }
 },
 "nbformat": 4,
 "nbformat_minor": 5
}
